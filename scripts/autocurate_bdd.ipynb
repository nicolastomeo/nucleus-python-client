{
 "cells": [
  {
   "cell_type": "code",
   "execution_count": 6,
   "id": "d5f245bd-0ca9-4a1c-ba2c-bc952f9eb09f",
   "metadata": {},
   "outputs": [],
   "source": [
    "import nucleus\n",
    "import nucleus.autocurate"
   ]
  },
  {
   "cell_type": "code",
   "execution_count": 2,
   "id": "4c26e04c-2346-4be1-98a8-fe6dced7f8d1",
   "metadata": {},
   "outputs": [],
   "source": [
    "API_KEY = 'test_47f6394c4822426389461f36334a45ff' # Vinjai's API key\n",
    "client = nucleus.NucleusClient(API_KEY)"
   ]
  },
  {
   "cell_type": "code",
   "execution_count": 111,
   "id": "fb4daca6-e217-485f-bdd3-ac9a60b48842",
   "metadata": {},
   "outputs": [],
   "source": [
    "run = client.get_model_run(model_run_id='run_c4s5wq257tf00d9m3wsg', dataset_id='ds_c4s5prvm7v0007rf4vag')"
   ]
  },
  {
   "cell_type": "code",
   "execution_count": 112,
   "id": "904c4570-bfda-4bb3-9c46-eb44ff62d5f3",
   "metadata": {},
   "outputs": [],
   "source": [
    "job = nucleus.autocurate.entropy(\"Mean Entropy\", [run], client)"
   ]
  },
  {
   "cell_type": "code",
   "execution_count": 114,
   "id": "d5ff24e8-d960-4ddc-a2ea-6cd14809de4c",
   "metadata": {},
   "outputs": [
    {
     "data": {
      "text/plain": [
       "{'job_id': 'job_c4s61m6wm91bgxksmggg',\n",
       " 'status': 'Completed',\n",
       " 'message': {'status_log': 'No additional information can be provided at this time.'},\n",
       " 'job_progress': '0.00',\n",
       " 'completed_steps': 0,\n",
       " 'total_steps': 0}"
      ]
     },
     "execution_count": 114,
     "metadata": {},
     "output_type": "execute_result"
    }
   ],
   "source": [
    "job.status()"
   ]
  },
  {
   "cell_type": "code",
   "execution_count": null,
   "id": "76bf3af8-6fa3-4bcd-abf6-2184da9ad1b2",
   "metadata": {},
   "outputs": [],
   "source": []
  },
  {
   "cell_type": "code",
   "execution_count": null,
   "id": "87504db0-4fe2-4588-a929-2f45957dfaf4",
   "metadata": {},
   "outputs": [],
   "source": []
  },
  {
   "cell_type": "code",
   "execution_count": 93,
   "id": "99894c0b-ee0f-4721-84b6-8c6881a52265",
   "metadata": {},
   "outputs": [],
   "source": [
    "dataset = client.get_dataset('ds_c4s4cx39h33g09hm2hh0')\n",
    "model = client.get_model('prj_c4s4ent9m78g099966j0')"
   ]
  },
  {
   "cell_type": "code",
   "execution_count": 94,
   "id": "6b6ef647-9c2e-4195-a0ed-56ba79518762",
   "metadata": {},
   "outputs": [
    {
     "name": "stderr",
     "output_type": "stream",
     "text": [
      "0it [00:00, ?it/s]\n"
     ]
    }
   ],
   "source": [
    "run = model.create_run(name='test', dataset=dataset, predictions=[])"
   ]
  },
  {
   "cell_type": "code",
   "execution_count": 95,
   "id": "a3b41138-5bce-46af-82fe-b8c47fd57290",
   "metadata": {},
   "outputs": [],
   "source": [
    "pred = [nucleus.BoxPrediction(label='traffic sign', x=690, y=337, width=96, height=40, reference_id='34f3e55f-9919bb47.jpg', class_pdf={'person': 0.00022668440182883353,\n",
    " 'rider': 0.00012657202022136208,\n",
    " 'car': 0.001457674309916847,\n",
    " 'truck': 0.004805948302644584,\n",
    " 'bus': 0.015461443014798156,\n",
    " 'train': 0.0003142998148843214,\n",
    " 'motor': 0.00019848517426185146,\n",
    " 'bike': 0.0002754959884690579,\n",
    " 'traffic light': 0.0006128712862352474,\n",
    " 'traffic sign': 0.9765205256867397}, confidence=0.9765205256867397)]"
   ]
  },
  {
   "cell_type": "code",
   "execution_count": 97,
   "id": "8602b078-803d-40a7-bafd-41067fa94d07",
   "metadata": {},
   "outputs": [
    {
     "name": "stderr",
     "output_type": "stream",
     "text": [
      "100%|██████████| 1/1 [00:04<00:00,  4.73s/it]\n"
     ]
    },
    {
     "data": {
      "text/plain": [
       "{'model_run_id': 'run_c4s4ktqwm91bgxksm0e0',\n",
       " 'predictions_processed': 1,\n",
       " 'predictions_ignored': 0}"
      ]
     },
     "execution_count": 97,
     "metadata": {},
     "output_type": "execute_result"
    }
   ],
   "source": [
    "run.predict(pred)"
   ]
  },
  {
   "cell_type": "code",
   "execution_count": 100,
   "id": "da741f8d-36d1-4fa7-84ce-5c56428d652c",
   "metadata": {},
   "outputs": [
    {
     "data": {
      "text/plain": [
       "{'person': 0.00022668440182883353,\n",
       " 'rider': 0.00012657202022136208,\n",
       " 'car': 0.001457674309916847,\n",
       " 'truck': 0.004805948302644584,\n",
       " 'bus': 0.015461443014798156,\n",
       " 'train': 0.0003142998148843214,\n",
       " 'motor': 0.00019848517426185146,\n",
       " 'bike': 0.0002754959884690579,\n",
       " 'traffic light': 0.0006128712862352474,\n",
       " 'traffic sign': 0.9765205256867397}"
      ]
     },
     "execution_count": 100,
     "metadata": {},
     "output_type": "execute_result"
    }
   ],
   "source": [
    "run.ungrouped_export()['box'][0].class_pdf"
   ]
  },
  {
   "cell_type": "code",
   "execution_count": null,
   "id": "1c51f65b-39e9-4814-b36c-21e9d319d610",
   "metadata": {},
   "outputs": [],
   "source": []
  }
 ],
 "metadata": {
  "kernelspec": {
   "display_name": "Python 3",
   "language": "python",
   "name": "python3"
  },
  "language_info": {
   "codemirror_mode": {
    "name": "ipython",
    "version": 3
   },
   "file_extension": ".py",
   "mimetype": "text/x-python",
   "name": "python",
   "nbconvert_exporter": "python",
   "pygments_lexer": "ipython3",
   "version": "3.8.10"
  }
 },
 "nbformat": 4,
 "nbformat_minor": 5
}
